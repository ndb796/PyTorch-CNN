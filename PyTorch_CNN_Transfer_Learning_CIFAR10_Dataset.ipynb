{
  "nbformat": 4,
  "nbformat_minor": 0,
  "metadata": {
    "colab": {
      "name": "PyTorch_CNN_Transfer_Learning_CIFAR10_Dataset.ipynb",
      "provenance": [],
      "collapsed_sections": [],
      "include_colab_link": true
    },
    "kernelspec": {
      "name": "python3",
      "display_name": "Python 3"
    },
    "accelerator": "GPU"
  },
  "cells": [
    {
      "cell_type": "markdown",
      "metadata": {
        "id": "view-in-github",
        "colab_type": "text"
      },
      "source": [
        "<a href=\"https://colab.research.google.com/github/ndb796/PyTorch-CNN/blob/main/PyTorch_CNN_Transfer_Learning_CIFAR10_Dataset.ipynb\" target=\"_parent\"><img src=\"https://colab.research.google.com/assets/colab-badge.svg\" alt=\"Open In Colab\"/></a>"
      ]
    },
    {
      "cell_type": "markdown",
      "metadata": {
        "id": "_r0BqakutGqS"
      },
      "source": [
        "### **CIFAR10 Dataset**\n",
        "\n",
        "* 작성자: 나동빈(Dongbin Na)\n",
        "* 본 코드는 POSTECH의 **CSED703G 수업** 과제로 작성한 코드입니다.\n",
        "* CNN을 이용해 CIFAR10 데이터셋에 대하여 학습/평가를 진행합니다.\n",
        "* 코드 실행 전에 **[런타임]** → **[런타임 유형 변경]** → 유형을 **GPU**로 설정해야 합니다."
      ]
    },
    {
      "cell_type": "markdown",
      "metadata": {
        "id": "2g-ilYZUtIAp"
      },
      "source": [
        "#### 필요한 라이브러리 불러오기"
      ]
    },
    {
      "cell_type": "code",
      "metadata": {
        "id": "RUHzH56esEge"
      },
      "source": [
        "import torch\n",
        "import torch.nn as nn\n",
        "import torch.nn.functional as F\n",
        "import torch.optim as optim\n",
        "\n",
        "import torchvision\n",
        "import torchvision.transforms as transforms\n",
        "\n",
        "from matplotlib import pyplot as plt\n",
        "import seaborn as sn\n",
        "import pandas as pd\n",
        "import numpy as np\n",
        "import os\n",
        "\n",
        "device = 'cuda'"
      ],
      "execution_count": null,
      "outputs": []
    },
    {
      "cell_type": "markdown",
      "metadata": {
        "id": "u3HA65UktLOS"
      },
      "source": [
        "#### 데이터셋(Dataset) 다운로드 및 불러오기"
      ]
    },
    {
      "cell_type": "code",
      "metadata": {
        "id": "cEjb32-atI-9",
        "outputId": "5f1e6a88-c06f-4960-a486-9c5b709025d2",
        "colab": {
          "base_uri": "https://localhost:8080/"
        }
      },
      "source": [
        "import torchvision\n",
        "import torchvision.transforms as transforms\n",
        "\n",
        "normalize = transforms.Normalize(mean=[0.485, 0.456, 0.406], std=[0.229, 0.224, 0.225])\n",
        "\n",
        "# 사전 학습된 모델의 경우 입력 데이터의 크기가 224 x 224이므로, CIFAR-10 데이터셋의 크기를 조절할 필요가 있음\n",
        "transform_train = transforms.Compose([\n",
        "    transforms.Resize((224, 224)),\n",
        "    transforms.RandomHorizontalFlip(), # 좌우 반전 (MNIST 말고 CIFAR10에서는 효과적)\n",
        "    transforms.ToTensor(),\n",
        "    normalize, # 실험 결과, 입력 정규화(input normalization)가 성능에 크게 영향을 미치지는 않음\n",
        "])\n",
        "\n",
        "transform_test = transforms.Compose([\n",
        "    transforms.Resize((224, 224)),\n",
        "    transforms.ToTensor(),\n",
        "    normalize,\n",
        "])\n",
        "\n",
        "train_dataset = torchvision.datasets.CIFAR10(root='./data', train=True, download=True, transform=transform_train)\n",
        "test_dataset = torchvision.datasets.CIFAR10(root='./data', train=False, download=True, transform=transform_test)\n",
        "\n",
        "train_loader = torch.utils.data.DataLoader(train_dataset, batch_size=64, shuffle=True, num_workers=4)\n",
        "test_loader = torch.utils.data.DataLoader(test_dataset, batch_size=64, shuffle=False, num_workers=4)"
      ],
      "execution_count": null,
      "outputs": [
        {
          "output_type": "stream",
          "text": [
            "Files already downloaded and verified\n",
            "Files already downloaded and verified\n"
          ],
          "name": "stdout"
        }
      ]
    },
    {
      "cell_type": "markdown",
      "metadata": {
        "id": "qZG6NpCstO20"
      },
      "source": [
        "#### 학습(Training) 및 평가(Testing) 함수 정의"
      ]
    },
    {
      "cell_type": "code",
      "metadata": {
        "id": "Bli-rJVxtMws"
      },
      "source": [
        "def train(net, epoch, optimizer, criterion, train_loader):\n",
        "    print('[ Train epoch: %d ]' % epoch)\n",
        "    net.train()\n",
        "    train_loss = 0\n",
        "    correct = 0\n",
        "    total = 0\n",
        "    for batch_idx, (inputs, targets) in enumerate(train_loader):\n",
        "        inputs, targets = inputs.to(device), targets.to(device)\n",
        "        optimizer.zero_grad()\n",
        "\n",
        "        benign_outputs = net(inputs)\n",
        "        loss = criterion(benign_outputs, targets)\n",
        "        loss.backward()\n",
        "\n",
        "        optimizer.step()\n",
        "        train_loss += loss.item()\n",
        "        _, predicted = benign_outputs.max(1)\n",
        "\n",
        "        total += targets.size(0)\n",
        "        correct += predicted.eq(targets).sum().item()\n",
        "\n",
        "    print('Train accuarcy:', 100. * correct / total)\n",
        "    print('Train average loss:', train_loss / total)\n",
        "    return (100. * correct / total, train_loss / total)\n",
        "\n",
        "\n",
        "def evaluate(net, epoch, file_name, data_loader, info):\n",
        "    print('[ Evaluate epoch: %d ]' % epoch)\n",
        "    print(\"Dataset:\", info)\n",
        "\n",
        "    net.eval() # Dropout을 적용하는 경우 필수임\n",
        "    test_loss = 0\n",
        "    correct = 0\n",
        "    total = 0\n",
        "\n",
        "    for batch_idx, (inputs, targets) in enumerate(data_loader):\n",
        "        inputs, targets = inputs.to(device), targets.to(device)\n",
        "        total += targets.size(0)\n",
        "\n",
        "        outputs = net(inputs)\n",
        "        test_loss += criterion(outputs, targets).item()\n",
        "\n",
        "        _, predicted = outputs.max(1)\n",
        "        correct += predicted.eq(targets).sum().item()\n",
        "\n",
        "    print('Accuarcy:', 100. * correct / total)\n",
        "    print('Average loss:', test_loss / total)\n",
        "    return (100. * correct / total, test_loss / total)"
      ],
      "execution_count": null,
      "outputs": []
    },
    {
      "cell_type": "markdown",
      "metadata": {
        "id": "Uw1Ij88jtRLH"
      },
      "source": [
        "#### 혼동행렬(Confusion Matrix) 함수 정의\n",
        "\n",
        "* 학습이 완료된 모델을 불러와 혼동 행렬을 NumPy 객체로 반환합니다.\n",
        "* 별도로 데이터 로더(data loader)를 파라미터로 이용해 해당 데이터셋에 대하여 평가를 진행합니다."
      ]
    },
    {
      "cell_type": "code",
      "metadata": {
        "id": "eSPCiBHItP2l"
      },
      "source": [
        "def get_confusion_matrix(net, num_classes, data_loader):\n",
        "    confusion_matrix = torch.zeros(num_classes, num_classes)\n",
        "\n",
        "    net.eval() # Dropout을 적용하는 경우 필수임\n",
        "\n",
        "    for batch_idx, (inputs, targets) in enumerate(data_loader):\n",
        "        inputs, targets = inputs.to(device), targets.to(device)\n",
        "\n",
        "        outputs = net(inputs)\n",
        "        _, predicted = outputs.max(1)\n",
        "\n",
        "        for t, p in zip(targets.view(-1), predicted.view(-1)):\n",
        "            confusion_matrix[t.long(), p.long()] += 1\n",
        "\n",
        "    return confusion_matrix"
      ],
      "execution_count": null,
      "outputs": []
    },
    {
      "cell_type": "markdown",
      "metadata": {
        "id": "ZBc-VlkpttVI"
      },
      "source": [
        "#### 결과 확인: ImageNet Pretrained ResNet18을 활용한 Transfer learning 결과 분석"
      ]
    },
    {
      "cell_type": "code",
      "metadata": {
        "id": "YyJ7q0CWtSOc",
        "outputId": "f6b3bd5a-a3a6-440f-bd87-7004690890fd",
        "colab": {
          "base_uri": "https://localhost:8080/"
        }
      },
      "source": [
        "# 학습 과정 중에 천천히 학습률(learning rate) 감소 시키기\n",
        "def adjust_learning_rate(optimizer, epoch):\n",
        "    lr = learning_rate\n",
        "    if epoch >= 5:\n",
        "        lr /= 10\n",
        "    for param_group in optimizer.param_groups:\n",
        "        param_group['lr'] = lr\n",
        "\n",
        "\n",
        "net = torchvision.models.resnet18(pretrained=True)\n",
        "\n",
        "# 마지막 레이어의 차원을 10차원으로 조절\n",
        "num_features = net.fc.in_features\n",
        "net.fc = nn.Linear(num_features, 10)\n",
        "net = net.to(device)\n",
        "\n",
        "epoch = 10\n",
        "learning_rate = 0.01\n",
        "file_name = \"Transfer_Learning_ResNet18_CIFAR10.pt\"\n",
        "\n",
        "criterion = nn.CrossEntropyLoss()\n",
        "optimizer = optim.SGD(net.parameters(), lr=learning_rate, momentum=0.9, weight_decay=0.0002)\n",
        "\n",
        "train_result = []\n",
        "test_result = []\n",
        "\n",
        "train_result.append(evaluate(net, 0, file_name, train_loader, \"Train\"))\n",
        "test_result.append(evaluate(net, 0, file_name, test_loader, \"Test\"))\n",
        "\n",
        "for i in range(epoch):\n",
        "    adjust_learning_rate(optimizer, epoch)\n",
        "    train(net, i, optimizer, criterion, train_loader)\n",
        "    train_acc, train_loss = evaluate(net, i + 1, file_name, train_loader, \"Train\")\n",
        "    test_acc, test_loss = evaluate(net, i + 1, file_name, test_loader, \"Test\")\n",
        "\n",
        "    state = {\n",
        "        'net': net.state_dict()\n",
        "    }\n",
        "    if not os.path.isdir('checkpoint'):\n",
        "        os.mkdir('checkpoint')\n",
        "    torch.save(state, './checkpoint/' + file_name)\n",
        "    print('Model Saved!')\n",
        "\n",
        "    train_result.append((train_acc, train_loss))\n",
        "    test_result.append((test_acc, test_loss))"
      ],
      "execution_count": null,
      "outputs": [
        {
          "output_type": "stream",
          "text": [
            "[ Evaluate epoch: 0 ]\n",
            "Dataset: Train\n",
            "Accuarcy: 6.976\n",
            "Average loss: 0.01981083899974823\n",
            "[ Evaluate epoch: 0 ]\n",
            "Dataset: Test\n",
            "Accuarcy: 6.96\n",
            "Average loss: 0.025350711703300475\n",
            "[ Train epoch: 0 ]\n",
            "Train accuarcy: 80.016\n",
            "Train average loss: 0.005097268390059471\n",
            "[ Evaluate epoch: 1 ]\n",
            "Dataset: Train\n",
            "Accuarcy: 91.79\n",
            "Average loss: 0.0020763175159692763\n",
            "[ Evaluate epoch: 1 ]\n",
            "Dataset: Test\n",
            "Accuarcy: 90.81\n",
            "Average loss: 0.0029357786923646925\n",
            "Model Saved!\n",
            "[ Train epoch: 1 ]\n",
            "Train accuarcy: 92.382\n",
            "Train average loss: 0.0018199960163235664\n",
            "[ Evaluate epoch: 2 ]\n",
            "Dataset: Train\n",
            "Accuarcy: 94.56\n",
            "Average loss: 0.0013303456556797027\n",
            "[ Evaluate epoch: 2 ]\n",
            "Dataset: Test\n",
            "Accuarcy: 92.89\n",
            "Average loss: 0.0021218717500567437\n",
            "Model Saved!\n",
            "[ Train epoch: 2 ]\n",
            "Train accuarcy: 94.444\n",
            "Train average loss: 0.0013398012474179267\n",
            "[ Evaluate epoch: 3 ]\n",
            "Dataset: Train\n",
            "Accuarcy: 95.988\n",
            "Average loss: 0.001007140951305628\n",
            "[ Evaluate epoch: 3 ]\n",
            "Dataset: Test\n",
            "Accuarcy: 93.66\n",
            "Average loss: 0.0018473566673696041\n",
            "Model Saved!\n",
            "[ Train epoch: 3 ]\n",
            "Train accuarcy: 95.62\n",
            "Train average loss: 0.001066840865164995\n",
            "[ Evaluate epoch: 4 ]\n",
            "Dataset: Train\n",
            "Accuarcy: 97.05\n",
            "Average loss: 0.0007711223935708404\n",
            "[ Evaluate epoch: 4 ]\n",
            "Dataset: Test\n",
            "Accuarcy: 94.06\n",
            "Average loss: 0.001707587494701147\n",
            "Model Saved!\n",
            "[ Train epoch: 4 ]\n",
            "Train accuarcy: 96.482\n",
            "Train average loss: 0.0008637544703483581\n",
            "[ Evaluate epoch: 5 ]\n",
            "Dataset: Train\n",
            "Accuarcy: 97.84\n",
            "Average loss: 0.0006120058914273977\n",
            "[ Evaluate epoch: 5 ]\n",
            "Dataset: Test\n",
            "Accuarcy: 94.41\n",
            "Average loss: 0.0016032152276486157\n",
            "Model Saved!\n",
            "[ Train epoch: 5 ]\n",
            "Train accuarcy: 97.26\n",
            "Train average loss: 0.0007048858769983053\n",
            "[ Evaluate epoch: 6 ]\n",
            "Dataset: Train\n",
            "Accuarcy: 98.302\n",
            "Average loss: 0.0005021708881482482\n",
            "[ Evaluate epoch: 6 ]\n",
            "Dataset: Test\n",
            "Accuarcy: 94.7\n",
            "Average loss: 0.0015554438516497612\n",
            "Model Saved!\n",
            "[ Train epoch: 6 ]\n",
            "Train accuarcy: 97.836\n",
            "Train average loss: 0.000579033564850688\n",
            "[ Evaluate epoch: 7 ]\n",
            "Dataset: Train\n",
            "Accuarcy: 98.756\n",
            "Average loss: 0.00039792363367974757\n",
            "[ Evaluate epoch: 7 ]\n",
            "Dataset: Test\n",
            "Accuarcy: 94.87\n",
            "Average loss: 0.0015469325561076402\n",
            "Model Saved!\n",
            "[ Train epoch: 7 ]\n",
            "Train accuarcy: 98.326\n",
            "Train average loss: 0.00046974990759044886\n",
            "[ Evaluate epoch: 8 ]\n",
            "Dataset: Train\n",
            "Accuarcy: 99.078\n",
            "Average loss: 0.0003196922895498574\n",
            "[ Evaluate epoch: 8 ]\n",
            "Dataset: Test\n",
            "Accuarcy: 94.95\n",
            "Average loss: 0.0015228420846164228\n",
            "Model Saved!\n",
            "[ Train epoch: 8 ]\n",
            "Train accuarcy: 98.738\n",
            "Train average loss: 0.0003792005343735218\n",
            "[ Evaluate epoch: 9 ]\n",
            "Dataset: Train\n",
            "Accuarcy: 99.352\n",
            "Average loss: 0.0002538569532521069\n",
            "[ Evaluate epoch: 9 ]\n",
            "Dataset: Test\n",
            "Accuarcy: 94.98\n",
            "Average loss: 0.0015117363706231117\n",
            "Model Saved!\n",
            "[ Train epoch: 9 ]\n",
            "Train accuarcy: 99.038\n",
            "Train average loss: 0.0003227722950465977\n",
            "[ Evaluate epoch: 10 ]\n",
            "Dataset: Train\n",
            "Accuarcy: 99.58\n",
            "Average loss: 0.00020050811123102904\n",
            "[ Evaluate epoch: 10 ]\n",
            "Dataset: Test\n",
            "Accuarcy: 95.13\n",
            "Average loss: 0.0014939298396930097\n",
            "Model Saved!\n"
          ],
          "name": "stdout"
        }
      ]
    },
    {
      "cell_type": "code",
      "metadata": {
        "id": "_rHg9igFt439",
        "outputId": "a8ffe55f-5785-4f1d-966b-602e7f3f6ccd",
        "colab": {
          "base_uri": "https://localhost:8080/",
          "height": 279
        }
      },
      "source": [
        "# 정확도(accuracy) 커브 시각화\n",
        "plt.plot([i for i in range(epoch + 1)], [i[0] for i in train_result])\n",
        "plt.plot([i for i in range(epoch + 1)], [i[0] for i in test_result])\n",
        "plt.xlabel(\"Epoch\")\n",
        "plt.ylabel(\"Accuracy\")\n",
        "plt.legend([\"train\", \"test\"])\n",
        "plt.show()"
      ],
      "execution_count": null,
      "outputs": [
        {
          "output_type": "display_data",
          "data": {
            "image/png": "[encoded data removed]",
            "text/plain": [
              "<Figure size 432x288 with 1 Axes>"
            ]
          },
          "metadata": {
            "tags": [],
            "needs_background": "light"
          }
        }
      ]
    },
    {
      "cell_type": "code",
      "metadata": {
        "id": "F-Kde5ulubCC",
        "outputId": "702a4284-3c60-4944-e19c-acfd0f6bbc61",
        "colab": {
          "base_uri": "https://localhost:8080/",
          "height": 279
        }
      },
      "source": [
        "# 손실(loss) 커브 시각화\n",
        "plt.plot([i for i in range(epoch + 1)], [i[1] for i in train_result])\n",
        "plt.plot([i for i in range(epoch + 1)], [i[1] for i in test_result])\n",
        "plt.xlabel(\"Epoch\")\n",
        "plt.ylabel(\"Loss\")\n",
        "plt.legend([\"train\", \"test\"])\n",
        "plt.show()"
      ],
      "execution_count": null,
      "outputs": [
        {
          "output_type": "display_data",
          "data": {
            "image/png": "[encoded data removed]",
            "text/plain": [
              "<Figure size 432x288 with 1 Axes>"
            ]
          },
          "metadata": {
            "tags": [],
            "needs_background": "light"
          }
        }
      ]
    },
    {
      "cell_type": "code",
      "metadata": {
        "id": "67xzow0euoop",
        "outputId": "84967485-af61-477d-8f57-e1dd7b0f33e6",
        "colab": {
          "base_uri": "https://localhost:8080/",
          "height": 569
        }
      },
      "source": [
        "# 혼동 행렬(Confusion Matrix) 시각화 (학습 데이터셋)\n",
        "net = torchvision.models.resnet18(pretrained=True)\n",
        "\n",
        "# 마지막 레이어의 차원을 10차원으로 조절\n",
        "num_features = net.fc.in_features\n",
        "net.fc = nn.Linear(num_features, 10)\n",
        "net = net.to(device)\n",
        "\n",
        "file_name = \"./checkpoint/Transfer_Learning_ResNet18_CIFAR10.pt\"\n",
        "checkpoint = torch.load(file_name)\n",
        "net.load_state_dict(checkpoint['net'])\n",
        "\n",
        "confusion_matrix = get_confusion_matrix(net, 10, train_loader)\n",
        "print(\"[ 각 클래스당 데이터 개수 ]\")\n",
        "print(confusion_matrix.sum(1))\n",
        "\n",
        "print(\"[ 혼동 행렬(confusion matrix) 시각화 ]\")\n",
        "# 행(row)은 실제 레이블, 열(column)은 모델이 분류한 레이블\n",
        "res = pd.DataFrame(confusion_matrix.numpy(), index = [i for i in range(10)], columns = [i for i in range(10)])\n",
        "plt.figure(figsize = (10, 7))\n",
        "sn.heatmap(res, annot=True)\n",
        "plt.show()\n",
        "\n",
        "print(\"[ 각 클래스에 따른 정확도 ]\")\n",
        "# (각 클래스마다 정답 개수 / 각 클래스마다 데이터의 개수)\n",
        "print(confusion_matrix.diag() / confusion_matrix.sum(1))\n",
        "\n",
        "print(\"[ 전체 평균 정확도 ]\")\n",
        "print(confusion_matrix.diag().sum() / confusion_matrix.sum())"
      ],
      "execution_count": null,
      "outputs": [
        {
          "output_type": "stream",
          "text": [
            "[ 각 클래스당 데이터 개수 ]\n",
            "tensor([5000., 5000., 5000., 5000., 5000., 5000., 5000., 5000., 5000., 5000.])\n",
            "[ 혼동 행렬(confusion matrix) 시각화 ]\n"
          ],
          "name": "stdout"
        },
        {
          "output_type": "display_data",
          "data": {
            "image/png": "[encoded data removed]",
            "text/plain": [
              "<Figure size 720x504 with 2 Axes>"
            ]
          },
          "metadata": {
            "tags": [],
            "needs_background": "light"
          }
        },
        {
          "output_type": "stream",
          "text": [
            "[ 각 클래스에 따른 정확도 ]\n",
            "tensor([0.9974, 0.9964, 0.9966, 0.9932, 0.9960, 0.9846, 0.9988, 0.9978, 0.9988,\n",
            "        0.9974])\n",
            "[ 전체 평균 정확도 ]\n",
            "tensor(0.9957)\n"
          ],
          "name": "stdout"
        }
      ]
    },
    {
      "cell_type": "code",
      "metadata": {
        "id": "jh4upGoJusnS",
        "outputId": "05bebda9-b084-44bf-a360-8c7a8f6b1b77",
        "colab": {
          "base_uri": "https://localhost:8080/",
          "height": 569
        }
      },
      "source": [
        "# 혼동 행렬(Confusion Matrix) 시각화 (테스트 데이터셋)\n",
        "net = torchvision.models.resnet18(pretrained=True)\n",
        "\n",
        "# 마지막 레이어의 차원을 10차원으로 조절\n",
        "num_features = net.fc.in_features\n",
        "net.fc = nn.Linear(num_features, 10)\n",
        "net = net.to(device)\n",
        "\n",
        "file_name = \"./checkpoint/Transfer_Learning_ResNet18_CIFAR10.pt\"\n",
        "checkpoint = torch.load(file_name)\n",
        "net.load_state_dict(checkpoint['net'])\n",
        "\n",
        "confusion_matrix = get_confusion_matrix(net, 10, test_loader)\n",
        "print(\"[ 각 클래스당 데이터 개수 ]\")\n",
        "print(confusion_matrix.sum(1))\n",
        "\n",
        "print(\"[ 혼동 행렬(confusion matrix) 시각화 ]\")\n",
        "# 행(row)은 실제 레이블, 열(column)은 모델이 분류한 레이블\n",
        "res = pd.DataFrame(confusion_matrix.numpy(), index = [i for i in range(10)], columns = [i for i in range(10)])\n",
        "plt.figure(figsize = (10, 7))\n",
        "sn.heatmap(res, annot=True)\n",
        "plt.show()\n",
        "\n",
        "print(\"[ 각 클래스에 따른 정확도 ]\")\n",
        "# (각 클래스마다 정답 개수 / 각 클래스마다 데이터의 개수)\n",
        "print(confusion_matrix.diag() / confusion_matrix.sum(1))\n",
        "\n",
        "print(\"[ 전체 평균 정확도 ]\")\n",
        "print(confusion_matrix.diag().sum() / confusion_matrix.sum())"
      ],
      "execution_count": null,
      "outputs": [
        {
          "output_type": "stream",
          "text": [
            "[ 각 클래스당 데이터 개수 ]\n",
            "tensor([1000., 1000., 1000., 1000., 1000., 1000., 1000., 1000., 1000., 1000.])\n",
            "[ 혼동 행렬(confusion matrix) 시각화 ]\n"
          ],
          "name": "stdout"
        },
        {
          "output_type": "display_data",
          "data": {
            "image/png": "[encoded data removed]",
            "text/plain": [
              "<Figure size 720x504 with 2 Axes>"
            ]
          },
          "metadata": {
            "tags": [],
            "needs_background": "light"
          }
        },
        {
          "output_type": "stream",
          "text": [
            "[ 각 클래스에 따른 정확도 ]\n",
            "tensor([0.9580, 0.9680, 0.9370, 0.8990, 0.9560, 0.9170, 0.9790, 0.9610, 0.9690,\n",
            "        0.9690])\n",
            "[ 전체 평균 정확도 ]\n",
            "tensor(0.9513)\n"
          ],
          "name": "stdout"
        }
      ]
    },
    {
      "cell_type": "markdown",
      "metadata": {
        "id": "oMvlNndByJfV"
      },
      "source": [
        "#### 결과 확인: ImageNet Pretrained ResNet50을 활용한 Transfer learning 결과 분석"
      ]
    },
    {
      "cell_type": "code",
      "metadata": {
        "id": "_X5DxnftyHtO",
        "outputId": "48ce7926-c55e-4720-d4d4-0cfd06ff0483",
        "colab": {
          "base_uri": "https://localhost:8080/"
        }
      },
      "source": [
        "# 학습 과정 중에 천천히 학습률(learning rate) 감소 시키기\n",
        "def adjust_learning_rate(optimizer, epoch):\n",
        "    lr = learning_rate\n",
        "    if epoch >= 5:\n",
        "        lr /= 10\n",
        "    for param_group in optimizer.param_groups:\n",
        "        param_group['lr'] = lr\n",
        "\n",
        "\n",
        "net = torchvision.models.resnet50(pretrained=True)\n",
        "\n",
        "# 마지막 레이어의 차원을 10차원으로 조절\n",
        "num_features = net.fc.in_features\n",
        "net.fc = nn.Linear(num_features, 10)\n",
        "net = net.to(device)\n",
        "\n",
        "epoch = 10\n",
        "learning_rate = 0.01\n",
        "file_name = \"Transfer_Learning_ResNet50_CIFAR10.pt\"\n",
        "\n",
        "criterion = nn.CrossEntropyLoss()\n",
        "optimizer = optim.SGD(net.parameters(), lr=learning_rate, momentum=0.9, weight_decay=0.0002)\n",
        "\n",
        "train_result = []\n",
        "test_result = []\n",
        "\n",
        "train_result.append(evaluate(net, 0, file_name, train_loader, \"Train\"))\n",
        "test_result.append(evaluate(net, 0, file_name, test_loader, \"Test\"))\n",
        "\n",
        "for i in range(epoch):\n",
        "    adjust_learning_rate(optimizer, epoch)\n",
        "    train(net, i, optimizer, criterion, train_loader)\n",
        "    train_acc, train_loss = evaluate(net, i + 1, file_name, train_loader, \"Train\")\n",
        "    test_acc, test_loss = evaluate(net, i + 1, file_name, test_loader, \"Test\")\n",
        "\n",
        "    state = {\n",
        "        'net': net.state_dict()\n",
        "    }\n",
        "    if not os.path.isdir('checkpoint'):\n",
        "        os.mkdir('checkpoint')\n",
        "    torch.save(state, './checkpoint/' + file_name)\n",
        "    print('Model Saved!')\n",
        "\n",
        "    train_result.append((train_acc, train_loss))\n",
        "    test_result.append((test_acc, test_loss))"
      ],
      "execution_count": null,
      "outputs": [
        {
          "output_type": "stream",
          "text": [
            "[ Evaluate epoch: 0 ]\n",
            "Dataset: Train\n",
            "Accuarcy: 10.104\n",
            "Average loss: 0.036528523840904235\n",
            "[ Evaluate epoch: 0 ]\n",
            "Dataset: Test\n",
            "Accuarcy: 10.51\n",
            "Average loss: 0.036623323822021485\n",
            "[ Train epoch: 0 ]\n",
            "Train accuarcy: 87.866\n",
            "Train average loss: 0.006186497809663415\n",
            "[ Evaluate epoch: 1 ]\n",
            "Dataset: Train\n",
            "Accuarcy: 96.314\n",
            "Average loss: 0.0018166531248018146\n",
            "[ Evaluate epoch: 1 ]\n",
            "Dataset: Test\n",
            "Accuarcy: 94.51\n",
            "Average loss: 0.0025022064216434956\n",
            "Model Saved!\n",
            "[ Train epoch: 1 ]\n",
            "Train accuarcy: 95.878\n",
            "Train average loss: 0.001966918377839029\n",
            "[ Evaluate epoch: 2 ]\n",
            "Dataset: Train\n",
            "Accuarcy: 98.266\n",
            "Average loss: 0.0009027730114106088\n",
            "[ Evaluate epoch: 2 ]\n",
            "Dataset: Test\n",
            "Accuarcy: 95.74\n",
            "Average loss: 0.0019508422621525824\n",
            "Model Saved!\n",
            "[ Train epoch: 2 ]\n",
            "Train accuarcy: 97.642\n",
            "Train average loss: 0.0011274123225733638\n",
            "[ Evaluate epoch: 3 ]\n",
            "Dataset: Train\n",
            "Accuarcy: 98.99\n",
            "Average loss: 0.0005657736237160861\n",
            "[ Evaluate epoch: 3 ]\n",
            "Dataset: Test\n",
            "Accuarcy: 95.79\n",
            "Average loss: 0.001946369522344321\n",
            "Model Saved!\n",
            "[ Train epoch: 3 ]\n",
            "Train accuarcy: 98.614\n",
            "Train average loss: 0.0007267100202618167\n",
            "[ Evaluate epoch: 4 ]\n",
            "Dataset: Train\n",
            "Accuarcy: 99.406\n",
            "Average loss: 0.0003547727632964961\n",
            "[ Evaluate epoch: 4 ]\n",
            "Dataset: Test\n",
            "Accuarcy: 95.96\n",
            "Average loss: 0.001893974076025188\n",
            "Model Saved!\n",
            "[ Train epoch: 4 ]\n",
            "Train accuarcy: 99.034\n",
            "Train average loss: 0.000514820997400675\n",
            "[ Evaluate epoch: 5 ]\n",
            "Dataset: Train\n",
            "Accuarcy: 99.736\n",
            "Average loss: 0.00017995364936650732\n",
            "[ Evaluate epoch: 5 ]\n",
            "Dataset: Test\n",
            "Accuarcy: 96.44\n",
            "Average loss: 0.0017502285246737302\n",
            "Model Saved!\n",
            "[ Train epoch: 5 ]\n",
            "Train accuarcy: 99.396\n",
            "Train average loss: 0.0003436726230150089\n",
            "[ Evaluate epoch: 6 ]\n",
            "Dataset: Train\n",
            "Accuarcy: 99.88\n",
            "Average loss: 0.00011253244424297009\n",
            "[ Evaluate epoch: 6 ]\n",
            "Dataset: Test\n",
            "Accuarcy: 96.57\n",
            "Average loss: 0.0017814281706116162\n",
            "Model Saved!\n",
            "[ Train epoch: 6 ]\n",
            "Train accuarcy: 99.542\n",
            "Train average loss: 0.0002575548685155809\n",
            "[ Evaluate epoch: 7 ]\n",
            "Dataset: Train\n",
            "Accuarcy: 99.938\n",
            "Average loss: 7.732557268929668e-05\n",
            "[ Evaluate epoch: 7 ]\n",
            "Dataset: Test\n",
            "Accuarcy: 96.49\n",
            "Average loss: 0.0018282414824469014\n",
            "Model Saved!\n",
            "[ Train epoch: 7 ]\n",
            "Train accuarcy: 99.72\n",
            "Train average loss: 0.00018418980844435282\n",
            "[ Evaluate epoch: 8 ]\n",
            "Dataset: Train\n",
            "Accuarcy: 99.974\n",
            "Average loss: 4.514754030562472e-05\n",
            "[ Evaluate epoch: 8 ]\n",
            "Dataset: Test\n",
            "Accuarcy: 96.53\n",
            "Average loss: 0.001763699608319439\n",
            "Model Saved!\n",
            "[ Train epoch: 8 ]\n",
            "Train accuarcy: 99.85\n",
            "Train average loss: 0.00012160635817446746\n",
            "[ Evaluate epoch: 9 ]\n",
            "Dataset: Train\n",
            "Accuarcy: 99.984\n",
            "Average loss: 3.028690957929939e-05\n",
            "[ Evaluate epoch: 9 ]\n",
            "Dataset: Test\n",
            "Accuarcy: 96.69\n",
            "Average loss: 0.0017325476642523427\n",
            "Model Saved!\n",
            "[ Train epoch: 9 ]\n",
            "Train accuarcy: 99.838\n",
            "Train average loss: 0.00011543395532004069\n",
            "[ Evaluate epoch: 10 ]\n",
            "Dataset: Train\n",
            "Accuarcy: 99.978\n",
            "Average loss: 2.8042993331036996e-05\n",
            "[ Evaluate epoch: 10 ]\n",
            "Dataset: Test\n",
            "Accuarcy: 96.63\n",
            "Average loss: 0.0018220052868768107\n",
            "Model Saved!\n"
          ],
          "name": "stdout"
        }
      ]
    },
    {
      "cell_type": "code",
      "metadata": {
        "id": "YzuyS5ztyjom",
        "outputId": "a4e2b4e8-ba64-4feb-a3ff-dbf0d95904c7",
        "colab": {
          "base_uri": "https://localhost:8080/",
          "height": 279
        }
      },
      "source": [
        "# 정확도(accuracy) 커브 시각화\n",
        "plt.plot([i for i in range(epoch + 1)], [i[0] for i in train_result])\n",
        "plt.plot([i for i in range(epoch + 1)], [i[0] for i in test_result])\n",
        "plt.xlabel(\"Epoch\")\n",
        "plt.ylabel(\"Accuracy\")\n",
        "plt.legend([\"train\", \"test\"])\n",
        "plt.show()"
      ],
      "execution_count": null,
      "outputs": [
        {
          "output_type": "display_data",
          "data": {
            "image/png": "[encoded data removed]",
            "text/plain": [
              "<Figure size 432x288 with 1 Axes>"
            ]
          },
          "metadata": {
            "tags": [],
            "needs_background": "light"
          }
        }
      ]
    },
    {
      "cell_type": "code",
      "metadata": {
        "id": "JchUuVdyyk7n",
        "outputId": "dffdcae4-d0d0-4f1a-d526-c01bb5aba35a",
        "colab": {
          "base_uri": "https://localhost:8080/",
          "height": 279
        }
      },
      "source": [
        "# 손실(loss) 커브 시각화\n",
        "plt.plot([i for i in range(epoch + 1)], [i[1] for i in train_result])\n",
        "plt.plot([i for i in range(epoch + 1)], [i[1] for i in test_result])\n",
        "plt.xlabel(\"Epoch\")\n",
        "plt.ylabel(\"Loss\")\n",
        "plt.legend([\"train\", \"test\"])\n",
        "plt.show()"
      ],
      "execution_count": null,
      "outputs": [
        {
          "output_type": "display_data",
          "data": {
            "image/png": "[encoded data removed]",
            "text/plain": [
              "<Figure size 432x288 with 1 Axes>"
            ]
          },
          "metadata": {
            "tags": [],
            "needs_background": "light"
          }
        }
      ]
    },
    {
      "cell_type": "code",
      "metadata": {
        "id": "91Rr1RFCylEn",
        "outputId": "28e8a008-c121-40d6-c0b5-442699e2fbe3",
        "colab": {
          "base_uri": "https://localhost:8080/",
          "height": 573
        }
      },
      "source": [
        "# 혼동 행렬(Confusion Matrix) 시각화 (학습 데이터셋)\n",
        "net = torchvision.models.resnet50(pretrained=True)\n",
        "\n",
        "# 마지막 레이어의 차원을 10차원으로 조절\n",
        "num_features = net.fc.in_features\n",
        "net.fc = nn.Linear(num_features, 10)\n",
        "net = net.to(device)\n",
        "\n",
        "file_name = \"./checkpoint/Transfer_Learning_ResNet50_CIFAR10.pt\"\n",
        "checkpoint = torch.load(file_name)\n",
        "net.load_state_dict(checkpoint['net'])\n",
        "\n",
        "confusion_matrix = get_confusion_matrix(net, 10, train_loader)\n",
        "print(\"[ 각 클래스당 데이터 개수 ]\")\n",
        "print(confusion_matrix.sum(1))\n",
        "\n",
        "print(\"[ 혼동 행렬(confusion matrix) 시각화 ]\")\n",
        "# 행(row)은 실제 레이블, 열(column)은 모델이 분류한 레이블\n",
        "res = pd.DataFrame(confusion_matrix.numpy(), index = [i for i in range(10)], columns = [i for i in range(10)])\n",
        "plt.figure(figsize = (10, 7))\n",
        "sn.heatmap(res, annot=True)\n",
        "plt.show()\n",
        "\n",
        "print(\"[ 각 클래스에 따른 정확도 ]\")\n",
        "# (각 클래스마다 정답 개수 / 각 클래스마다 데이터의 개수)\n",
        "print(confusion_matrix.diag() / confusion_matrix.sum(1))\n",
        "\n",
        "print(\"[ 전체 평균 정확도 ]\")\n",
        "print(confusion_matrix.diag().sum() / confusion_matrix.sum())"
      ],
      "execution_count": null,
      "outputs": [
        {
          "output_type": "stream",
          "text": [
            "[ 각 클래스당 데이터 개수 ]\n",
            "tensor([5000., 5000., 5000., 5000., 5000., 5000., 5000., 5000., 5000., 5000.])\n",
            "[ 혼동 행렬(confusion matrix) 시각화 ]\n"
          ],
          "name": "stdout"
        },
        {
          "output_type": "display_data",
          "data": {
            "image/png": "[encoded data removed]",
            "text/plain": [
              "<Figure size 720x504 with 2 Axes>"
            ]
          },
          "metadata": {
            "tags": [],
            "needs_background": "light"
          }
        },
        {
          "output_type": "stream",
          "text": [
            "[ 각 클래스에 따른 정확도 ]\n",
            "tensor([0.9992, 1.0000, 0.9996, 0.9996, 1.0000, 0.9998, 1.0000, 1.0000, 1.0000,\n",
            "        0.9996])\n",
            "[ 전체 평균 정확도 ]\n",
            "tensor(0.9998)\n"
          ],
          "name": "stdout"
        }
      ]
    },
    {
      "cell_type": "code",
      "metadata": {
        "id": "O57V01X8ynIf",
        "outputId": "30f9f779-3345-4eb5-a705-cb10adaf63a9",
        "colab": {
          "base_uri": "https://localhost:8080/",
          "height": 569
        }
      },
      "source": [
        "# 혼동 행렬(Confusion Matrix) 시각화 (테스트 데이터셋)\n",
        "net = torchvision.models.resnet50(pretrained=True)\n",
        "\n",
        "# 마지막 레이어의 차원을 10차원으로 조절\n",
        "num_features = net.fc.in_features\n",
        "net.fc = nn.Linear(num_features, 10)\n",
        "net = net.to(device)\n",
        "\n",
        "file_name = \"./checkpoint/Transfer_Learning_ResNet50_CIFAR10.pt\"\n",
        "checkpoint = torch.load(file_name)\n",
        "net.load_state_dict(checkpoint['net'])\n",
        "\n",
        "confusion_matrix = get_confusion_matrix(net, 10, test_loader)\n",
        "print(\"[ 각 클래스당 데이터 개수 ]\")\n",
        "print(confusion_matrix.sum(1))\n",
        "\n",
        "print(\"[ 혼동 행렬(confusion matrix) 시각화 ]\")\n",
        "# 행(row)은 실제 레이블, 열(column)은 모델이 분류한 레이블\n",
        "res = pd.DataFrame(confusion_matrix.numpy(), index = [i for i in range(10)], columns = [i for i in range(10)])\n",
        "plt.figure(figsize = (10, 7))\n",
        "sn.heatmap(res, annot=True)\n",
        "plt.show()\n",
        "\n",
        "print(\"[ 각 클래스에 따른 정확도 ]\")\n",
        "# (각 클래스마다 정답 개수 / 각 클래스마다 데이터의 개수)\n",
        "print(confusion_matrix.diag() / confusion_matrix.sum(1))\n",
        "\n",
        "print(\"[ 전체 평균 정확도 ]\")\n",
        "print(confusion_matrix.diag().sum() / confusion_matrix.sum())"
      ],
      "execution_count": null,
      "outputs": [
        {
          "output_type": "stream",
          "text": [
            "[ 각 클래스당 데이터 개수 ]\n",
            "tensor([1000., 1000., 1000., 1000., 1000., 1000., 1000., 1000., 1000., 1000.])\n",
            "[ 혼동 행렬(confusion matrix) 시각화 ]\n"
          ],
          "name": "stdout"
        },
        {
          "output_type": "display_data",
          "data": {
            "image/png": "[encoded data removed]",
            "text/plain": [
              "<Figure size 720x504 with 2 Axes>"
            ]
          },
          "metadata": {
            "tags": [],
            "needs_background": "light"
          }
        },
        {
          "output_type": "stream",
          "text": [
            "[ 각 클래스에 따른 정확도 ]\n",
            "tensor([0.9710, 0.9840, 0.9570, 0.9070, 0.9690, 0.9530, 0.9870, 0.9820, 0.9890,\n",
            "        0.9640])\n",
            "[ 전체 평균 정확도 ]\n",
            "tensor(0.9663)\n"
          ],
          "name": "stdout"
        }
      ]
    },
    {
      "cell_type": "markdown",
      "metadata": {
        "id": "3D78Mu38ytot"
      },
      "source": [
        "#### 결과 확인: ImageNet Pretrained ResNet101을 활용한 Transfer learning 결과 분석"
      ]
    },
    {
      "cell_type": "code",
      "metadata": {
        "id": "azseDzx1yqYX"
      },
      "source": [
        "# 학습 과정 중에 천천히 학습률(learning rate) 감소 시키기\n",
        "def adjust_learning_rate(optimizer, epoch):\n",
        "    lr = learning_rate\n",
        "    if epoch >= 5:\n",
        "        lr /= 10\n",
        "    for param_group in optimizer.param_groups:\n",
        "        param_group['lr'] = lr\n",
        "\n",
        "\n",
        "net = torchvision.models.resnet101(pretrained=True)\n",
        "\n",
        "# 마지막 레이어의 차원을 10차원으로 조절\n",
        "num_features = net.fc.in_features\n",
        "net.fc = nn.Linear(num_features, 10)\n",
        "net = net.to(device)\n",
        "\n",
        "epoch = 10\n",
        "learning_rate = 0.01\n",
        "file_name = \"Transfer_Learning_ResNet101_CIFAR10.pt\"\n",
        "\n",
        "criterion = nn.CrossEntropyLoss()\n",
        "optimizer = optim.SGD(net.parameters(), lr=learning_rate, momentum=0.9, weight_decay=0.0002)\n",
        "\n",
        "train_result = []\n",
        "test_result = []\n",
        "\n",
        "train_result.append(evaluate(net, 0, file_name, train_loader, \"Train\"))\n",
        "test_result.append(evaluate(net, 0, file_name, test_loader, \"Test\"))\n",
        "\n",
        "for i in range(epoch):\n",
        "    adjust_learning_rate(optimizer, epoch)\n",
        "    train(net, i, optimizer, criterion, train_loader)\n",
        "    train_acc, train_loss = evaluate(net, i + 1, file_name, train_loader, \"Train\")\n",
        "    test_acc, test_loss = evaluate(net, i + 1, file_name, test_loader, \"Test\")\n",
        "\n",
        "    state = {\n",
        "        'net': net.state_dict()\n",
        "    }\n",
        "    if not os.path.isdir('checkpoint'):\n",
        "        os.mkdir('checkpoint')\n",
        "    torch.save(state, './checkpoint/' + file_name)\n",
        "    print('Model Saved!')\n",
        "\n",
        "    train_result.append((train_acc, train_loss))\n",
        "    test_result.append((test_acc, test_loss))"
      ],
      "execution_count": null,
      "outputs": []
    },
    {
      "cell_type": "code",
      "metadata": {
        "id": "PMn7TWMsyxXv"
      },
      "source": [
        "# 정확도(accuracy) 커브 시각화\n",
        "plt.plot([i for i in range(epoch + 1)], [i[0] for i in train_result])\n",
        "plt.plot([i for i in range(epoch + 1)], [i[0] for i in test_result])\n",
        "plt.xlabel(\"Epoch\")\n",
        "plt.ylabel(\"Accuracy\")\n",
        "plt.legend([\"train\", \"test\"])\n",
        "plt.show()"
      ],
      "execution_count": null,
      "outputs": []
    },
    {
      "cell_type": "code",
      "metadata": {
        "id": "F_vj3R0DyysP"
      },
      "source": [
        "# 손실(loss) 커브 시각화\n",
        "plt.plot([i for i in range(epoch + 1)], [i[1] for i in train_result])\n",
        "plt.plot([i for i in range(epoch + 1)], [i[1] for i in test_result])\n",
        "plt.xlabel(\"Epoch\")\n",
        "plt.ylabel(\"Loss\")\n",
        "plt.legend([\"train\", \"test\"])\n",
        "plt.show()"
      ],
      "execution_count": null,
      "outputs": []
    },
    {
      "cell_type": "code",
      "metadata": {
        "id": "xMzCm1Xly4cd"
      },
      "source": [
        "# 혼동 행렬(Confusion Matrix) 시각화 (학습 데이터셋)\n",
        "net = torchvision.models.resnet101(pretrained=True)\n",
        "\n",
        "# 마지막 레이어의 차원을 10차원으로 조절\n",
        "num_features = net.fc.in_features\n",
        "net.fc = nn.Linear(num_features, 10)\n",
        "net = net.to(device)\n",
        "\n",
        "file_name = \"./checkpoint/Transfer_Learning_ResNet101_CIFAR10.pt\"\n",
        "checkpoint = torch.load(file_name)\n",
        "net.load_state_dict(checkpoint['net'])\n",
        "\n",
        "confusion_matrix = get_confusion_matrix(net, 10, train_loader)\n",
        "print(\"[ 각 클래스당 데이터 개수 ]\")\n",
        "print(confusion_matrix.sum(1))\n",
        "\n",
        "print(\"[ 혼동 행렬(confusion matrix) 시각화 ]\")\n",
        "# 행(row)은 실제 레이블, 열(column)은 모델이 분류한 레이블\n",
        "res = pd.DataFrame(confusion_matrix.numpy(), index = [i for i in range(10)], columns = [i for i in range(10)])\n",
        "plt.figure(figsize = (10, 7))\n",
        "sn.heatmap(res, annot=True)\n",
        "plt.show()\n",
        "\n",
        "print(\"[ 각 클래스에 따른 정확도 ]\")\n",
        "# (각 클래스마다 정답 개수 / 각 클래스마다 데이터의 개수)\n",
        "print(confusion_matrix.diag() / confusion_matrix.sum(1))\n",
        "\n",
        "print(\"[ 전체 평균 정확도 ]\")\n",
        "print(confusion_matrix.diag().sum() / confusion_matrix.sum())"
      ],
      "execution_count": null,
      "outputs": []
    },
    {
      "cell_type": "code",
      "metadata": {
        "id": "MFmJOHpCy2AQ"
      },
      "source": [
        "# 혼동 행렬(Confusion Matrix) 시각화 (테스트 데이터셋)\n",
        "net = torchvision.models.resnet101(pretrained=True)\n",
        "\n",
        "# 마지막 레이어의 차원을 10차원으로 조절\n",
        "num_features = net.fc.in_features\n",
        "net.fc = nn.Linear(num_features, 10)\n",
        "net = net.to(device)\n",
        "\n",
        "file_name = \"./checkpoint/Transfer_Learning_ResNet101_CIFAR10.pt\"\n",
        "checkpoint = torch.load(file_name)\n",
        "net.load_state_dict(checkpoint['net'])\n",
        "\n",
        "confusion_matrix = get_confusion_matrix(net, 10, test_loader)\n",
        "print(\"[ 각 클래스당 데이터 개수 ]\")\n",
        "print(confusion_matrix.sum(1))\n",
        "\n",
        "print(\"[ 혼동 행렬(confusion matrix) 시각화 ]\")\n",
        "# 행(row)은 실제 레이블, 열(column)은 모델이 분류한 레이블\n",
        "res = pd.DataFrame(confusion_matrix.numpy(), index = [i for i in range(10)], columns = [i for i in range(10)])\n",
        "plt.figure(figsize = (10, 7))\n",
        "sn.heatmap(res, annot=True)\n",
        "plt.show()\n",
        "\n",
        "print(\"[ 각 클래스에 따른 정확도 ]\")\n",
        "# (각 클래스마다 정답 개수 / 각 클래스마다 데이터의 개수)\n",
        "print(confusion_matrix.diag() / confusion_matrix.sum(1))\n",
        "\n",
        "print(\"[ 전체 평균 정확도 ]\")\n",
        "print(confusion_matrix.diag().sum() / confusion_matrix.sum())"
      ],
      "execution_count": null,
      "outputs": []
    },
    {
      "cell_type": "code",
      "metadata": {
        "id": "Xy_sG14qy7g_"
      },
      "source": [
        "from google.colab import files"
      ],
      "execution_count": null,
      "outputs": []
    },
    {
      "cell_type": "code",
      "metadata": {
        "id": "cYEWyVWLy-IH",
        "outputId": "ba5b351a-1cb7-44c2-e084-07ea3bc5fac5",
        "colab": {
          "base_uri": "https://localhost:8080/",
          "height": 17
        }
      },
      "source": [
        "files.download('./checkpoint/Transfer_Learning_ResNet18_CIFAR10.pt')"
      ],
      "execution_count": null,
      "outputs": [
        {
          "output_type": "display_data",
          "data": {
            "application/javascript": [
              "\n",
              "    async function download(id, filename, size) {\n",
              "      if (!google.colab.kernel.accessAllowed) {\n",
              "        return;\n",
              "      }\n",
              "      const div = document.createElement('div');\n",
              "      const label = document.createElement('label');\n",
              "      label.textContent = `Downloading \"${filename}\": `;\n",
              "      div.appendChild(label);\n",
              "      const progress = document.createElement('progress');\n",
              "      progress.max = size;\n",
              "      div.appendChild(progress);\n",
              "      document.body.appendChild(div);\n",
              "\n",
              "      const buffers = [];\n",
              "      let downloaded = 0;\n",
              "\n",
              "      const channel = await google.colab.kernel.comms.open(id);\n",
              "      // Send a message to notify the kernel that we're ready.\n",
              "      channel.send({})\n",
              "\n",
              "      for await (const message of channel.messages) {\n",
              "        // Send a message to notify the kernel that we're ready.\n",
              "        channel.send({})\n",
              "        if (message.buffers) {\n",
              "          for (const buffer of message.buffers) {\n",
              "            buffers.push(buffer);\n",
              "            downloaded += buffer.byteLength;\n",
              "            progress.value = downloaded;\n",
              "          }\n",
              "        }\n",
              "      }\n",
              "      const blob = new Blob(buffers, {type: 'application/binary'});\n",
              "      const a = document.createElement('a');\n",
              "      a.href = window.URL.createObjectURL(blob);\n",
              "      a.download = filename;\n",
              "      div.appendChild(a);\n",
              "      a.click();\n",
              "      div.remove();\n",
              "    }\n",
              "  "
            ],
            "text/plain": [
              "<IPython.core.display.Javascript object>"
            ]
          },
          "metadata": {
            "tags": []
          }
        },
        {
          "output_type": "display_data",
          "data": {
            "application/javascript": [
              "download(\"download_547e762b-67c9-46c0-8e47-dc1b283f492d\", \"Transfer_Learning_ResNet18_CIFAR10.pt\", 44806620)"
            ],
            "text/plain": [
              "<IPython.core.display.Javascript object>"
            ]
          },
          "metadata": {
            "tags": []
          }
        }
      ]
    },
    {
      "cell_type": "code",
      "metadata": {
        "id": "uQRX1AjczAyH",
        "outputId": "1dfafa27-6d82-494b-b170-e0891da86746",
        "colab": {
          "base_uri": "https://localhost:8080/",
          "height": 17
        }
      },
      "source": [
        "files.download('./checkpoint/Transfer_Learning_ResNet50_CIFAR10.pt')"
      ],
      "execution_count": null,
      "outputs": [
        {
          "output_type": "display_data",
          "data": {
            "application/javascript": [
              "\n",
              "    async function download(id, filename, size) {\n",
              "      if (!google.colab.kernel.accessAllowed) {\n",
              "        return;\n",
              "      }\n",
              "      const div = document.createElement('div');\n",
              "      const label = document.createElement('label');\n",
              "      label.textContent = `Downloading \"${filename}\": `;\n",
              "      div.appendChild(label);\n",
              "      const progress = document.createElement('progress');\n",
              "      progress.max = size;\n",
              "      div.appendChild(progress);\n",
              "      document.body.appendChild(div);\n",
              "\n",
              "      const buffers = [];\n",
              "      let downloaded = 0;\n",
              "\n",
              "      const channel = await google.colab.kernel.comms.open(id);\n",
              "      // Send a message to notify the kernel that we're ready.\n",
              "      channel.send({})\n",
              "\n",
              "      for await (const message of channel.messages) {\n",
              "        // Send a message to notify the kernel that we're ready.\n",
              "        channel.send({})\n",
              "        if (message.buffers) {\n",
              "          for (const buffer of message.buffers) {\n",
              "            buffers.push(buffer);\n",
              "            downloaded += buffer.byteLength;\n",
              "            progress.value = downloaded;\n",
              "          }\n",
              "        }\n",
              "      }\n",
              "      const blob = new Blob(buffers, {type: 'application/binary'});\n",
              "      const a = document.createElement('a');\n",
              "      a.href = window.URL.createObjectURL(blob);\n",
              "      a.download = filename;\n",
              "      div.appendChild(a);\n",
              "      a.click();\n",
              "      div.remove();\n",
              "    }\n",
              "  "
            ],
            "text/plain": [
              "<IPython.core.display.Javascript object>"
            ]
          },
          "metadata": {
            "tags": []
          }
        },
        {
          "output_type": "display_data",
          "data": {
            "application/javascript": [
              "download(\"download_2c5c9e51-edd3-4dbc-9b51-719fe22f1bba\", \"Transfer_Learning_ResNet50_CIFAR10.pt\", 94435320)"
            ],
            "text/plain": [
              "<IPython.core.display.Javascript object>"
            ]
          },
          "metadata": {
            "tags": []
          }
        }
      ]
    },
    {
      "cell_type": "code",
      "metadata": {
        "id": "gvBkPTyHzBQQ"
      },
      "source": [
        "files.download('./checkpoint/Transfer_Learning_ResNet101_CIFAR10.pt')"
      ],
      "execution_count": null,
      "outputs": []
    }
  ]
}